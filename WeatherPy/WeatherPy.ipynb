{
 "cells": [
  {
   "cell_type": "markdown",
   "metadata": {},
   "source": [
    "# WeatherPy\n",
    "----\n",
    "\n",
    "#### Note\n",
    "* Instructions have been included for each segment. You do not have to follow them exactly, but they are included to help you think through the steps."
   ]
  },
  {
   "cell_type": "code",
   "execution_count": 1,
   "metadata": {
    "scrolled": true
   },
   "outputs": [],
   "source": [
    "# Dependencies and Setup\n",
    "import matplotlib.pyplot as plt\n",
    "import pandas as pd\n",
    "import numpy as np\n",
    "import requests\n",
    "import time\n",
    "import json\n",
    "import scipy.stats as st\n",
    "from scipy.stats import linregress\n",
    "\n",
    "# Import API key\n",
    "from api_keys import api_key\n",
    "\n",
    "# Incorporated citipy to determine city based on latitude and longitude\n",
    "from citipy import citipy\n",
    "\n",
    "# Output File (CSV)\n",
    "output_data_file = \"output_data/cities.csv\"\n",
    "\n",
    "# Range of latitudes and longitudes\n",
    "lat_range = (-90, 90)\n",
    "lng_range = (-180, 180)\n",
    "\n",
    "\n",
    "\n"
   ]
  },
  {
   "cell_type": "markdown",
   "metadata": {},
   "source": [
    "## Generate Cities List"
   ]
  },
  {
   "cell_type": "code",
   "execution_count": 2,
   "metadata": {},
   "outputs": [
    {
     "data": {
      "text/plain": [
       "618"
      ]
     },
     "execution_count": 2,
     "metadata": {},
     "output_type": "execute_result"
    }
   ],
   "source": [
    "\n",
    "# List for holding lat_lngs and cities\n",
    "lat_lngs = []\n",
    "cities = []\n",
    "\n",
    "# Create a set of random lat and lng combinations\n",
    "lats = np.random.uniform(low=-90.000, high=90.000, size=1500)\n",
    "lngs = np.random.uniform(low=-180.000, high=180.000, size=1500)\n",
    "lat_lngs = zip(lats, lngs)\n",
    "\n",
    "# Identify nearest city for each lat, lng combination\n",
    "for lat_lng in lat_lngs:\n",
    "    city = citipy.nearest_city(lat_lng[0], lat_lng[1]).city_name\n",
    "    \n",
    "    # If the city is unique, then add it to a our cities list\n",
    "    if city not in cities:\n",
    "        cities.append(city)\n",
    "\n",
    "# Print the city count to confirm sufficient count\n",
    "len(cities)"
   ]
  },
  {
   "cell_type": "code",
   "execution_count": 3,
   "metadata": {},
   "outputs": [],
   "source": [
    "city_name_list = []\n",
    "cloudiness_list = []\n",
    "country_list = []\n",
    "date_list = []\n",
    "humidity_list = []\n",
    "lat_list = []\n",
    "lng_list = []\n",
    "max_temp_list = []\n",
    "wind_speed_list = []\n",
    "index_counter = 0\n",
    "set_counter = 1"
   ]
  },
  {
   "cell_type": "markdown",
   "metadata": {},
   "source": [
    "### Perform API Calls\n",
    "* Perform a weather check on each city using a series of successive API calls.\n",
    "* Include a print log of each city as it'sbeing processed (with the city number and city name).\n"
   ]
  },
  {
   "cell_type": "code",
   "execution_count": null,
   "metadata": {
    "scrolled": true
   },
   "outputs": [
    {
     "name": "stdout",
     "output_type": "stream",
     "text": [
      "Beginning Data Retrieval \n",
      "-----------------------------\n",
      "City not found. Skipping...\n",
      "Processing Record 1 of Set 1 : nikolskoye\n",
      "Processing Record 2 of Set 1 : hithadhoo\n",
      "Processing Record 3 of Set 1 : kupang\n",
      "Processing Record 4 of Set 1 : butaritari\n",
      "Processing Record 5 of Set 1 : albany\n",
      "Processing Record 6 of Set 1 : ushuaia\n",
      "Processing Record 7 of Set 1 : hilo\n",
      "Processing Record 8 of Set 1 : arapiraca\n",
      "Processing Record 9 of Set 1 : saint-philippe\n",
      "Processing Record 10 of Set 1 : punta arenas\n",
      "Processing Record 11 of Set 1 : raudeberg\n",
      "Processing Record 12 of Set 1 : dunedin\n",
      "Processing Record 13 of Set 1 : westport\n",
      "Processing Record 14 of Set 1 : port lincoln\n",
      "Processing Record 15 of Set 1 : tambovka\n",
      "Processing Record 16 of Set 1 : bukama\n",
      "Processing Record 17 of Set 1 : hasaki\n",
      "Processing Record 18 of Set 1 : great yarmouth\n",
      "Processing Record 19 of Set 1 : salalah\n",
      "Processing Record 20 of Set 1 : kodiak\n",
      "Processing Record 21 of Set 1 : mataura\n",
      "Processing Record 22 of Set 1 : ponta delgada\n",
      "Processing Record 23 of Set 1 : constitucion\n",
      "Processing Record 24 of Set 1 : hobart\n",
      "Processing Record 25 of Set 1 : colac\n",
      "Processing Record 26 of Set 1 : san quintin\n",
      "Processing Record 27 of Set 1 : hermanus\n",
      "Processing Record 28 of Set 1 : cockburn town\n",
      "Processing Record 29 of Set 1 : leshukonskoye\n",
      "Processing Record 30 of Set 1 : palmerston\n",
      "Processing Record 31 of Set 1 : majholi\n",
      "Processing Record 32 of Set 1 : husavik\n",
      "Processing Record 33 of Set 1 : tabou\n",
      "Processing Record 34 of Set 1 : qaanaaq\n",
      "Processing Record 35 of Set 1 : bonavista\n",
      "Processing Record 36 of Set 1 : busselton\n",
      "Processing Record 37 of Set 1 : tomatlan\n",
      "City not found. Skipping...\n",
      "Processing Record 38 of Set 1 : manjacaze\n",
      "Processing Record 39 of Set 1 : puerto ayora\n",
      "Processing Record 40 of Set 1 : bardiyah\n",
      "Processing Record 41 of Set 1 : cape town\n",
      "Processing Record 42 of Set 1 : santander\n",
      "Processing Record 43 of Set 1 : oneonta\n",
      "Processing Record 44 of Set 1 : poum\n",
      "Processing Record 45 of Set 1 : kibi\n",
      "Processing Record 46 of Set 1 : richards bay\n",
      "Processing Record 47 of Set 1 : avera\n",
      "Processing Record 48 of Set 1 : tigil\n",
      "Processing Record 49 of Set 1 : rikitea\n",
      "Processing Record 50 of Set 1 : eureka\n",
      "Processing Record 0 of Set 2 : yellowknife\n",
      "City not found. Skipping...\n",
      "Processing Record 1 of Set 2 : georgetown\n",
      "Processing Record 2 of Set 2 : atuona\n",
      "Processing Record 3 of Set 2 : port alfred\n",
      "Processing Record 4 of Set 2 : castro\n",
      "Processing Record 5 of Set 2 : kapaa\n",
      "Processing Record 6 of Set 2 : marzuq\n",
      "Processing Record 7 of Set 2 : pevek\n",
      "Processing Record 8 of Set 2 : hovd\n",
      "Processing Record 9 of Set 2 : channel-port aux basques\n",
      "Processing Record 10 of Set 2 : kudahuvadhoo\n",
      "Processing Record 11 of Set 2 : new norfolk\n",
      "Processing Record 12 of Set 2 : longyearbyen\n",
      "Processing Record 13 of Set 2 : carnarvon\n",
      "Processing Record 14 of Set 2 : severo-kurilsk\n",
      "Processing Record 15 of Set 2 : lebu\n",
      "Processing Record 16 of Set 2 : kota\n",
      "Processing Record 17 of Set 2 : srednekolymsk\n",
      "Processing Record 18 of Set 2 : gorontalo\n",
      "Processing Record 19 of Set 2 : zhuhai\n",
      "Processing Record 20 of Set 2 : maragogi\n",
      "Processing Record 21 of Set 2 : aklavik\n",
      "Processing Record 22 of Set 2 : bredasdorp\n",
      "Processing Record 23 of Set 2 : iquitos\n",
      "Processing Record 24 of Set 2 : esperance\n",
      "Processing Record 25 of Set 2 : itarema\n",
      "Processing Record 26 of Set 2 : portland\n",
      "Processing Record 27 of Set 2 : nchelenge\n",
      "Processing Record 28 of Set 2 : barrow\n",
      "Processing Record 29 of Set 2 : farsund\n",
      "Processing Record 30 of Set 2 : alto araguaia\n",
      "Processing Record 31 of Set 2 : tzucacab\n",
      "Processing Record 32 of Set 2 : alseseca\n",
      "Processing Record 33 of Set 2 : gamba\n",
      "City not found. Skipping...\n",
      "Processing Record 34 of Set 2 : lompoc\n",
      "Processing Record 35 of Set 2 : gewane\n",
      "Processing Record 36 of Set 2 : makakilo city\n",
      "Processing Record 37 of Set 2 : jamestown\n",
      "Processing Record 38 of Set 2 : tura\n",
      "City not found. Skipping...\n",
      "Processing Record 39 of Set 2 : erdenet\n",
      "Processing Record 40 of Set 2 : sinnamary\n",
      "Processing Record 41 of Set 2 : camana\n",
      "Processing Record 42 of Set 2 : floro\n",
      "Processing Record 43 of Set 2 : mbanza-ngungu\n",
      "Processing Record 44 of Set 2 : kloulklubed\n",
      "Processing Record 45 of Set 2 : la tuque\n",
      "Processing Record 46 of Set 2 : shambu\n",
      "Processing Record 47 of Set 2 : riyadh\n",
      "Processing Record 48 of Set 2 : katsuura\n",
      "Processing Record 49 of Set 2 : mogadishu\n",
      "Processing Record 50 of Set 2 : lagoa\n",
      "Processing Record 0 of Set 3 : chuy\n",
      "Processing Record 1 of Set 3 : laguna\n",
      "City not found. Skipping...\n",
      "Processing Record 2 of Set 3 : ngunguru\n",
      "Processing Record 3 of Set 3 : bluff\n",
      "Processing Record 4 of Set 3 : severomorsk\n",
      "Processing Record 5 of Set 3 : bengkulu\n",
      "Processing Record 6 of Set 3 : tezu\n",
      "Processing Record 7 of Set 3 : kaitangata\n",
      "Processing Record 8 of Set 3 : diego de almagro\n",
      "Processing Record 9 of Set 3 : komsomolskiy\n",
      "Processing Record 10 of Set 3 : airai\n",
      "City not found. Skipping...\n",
      "Processing Record 11 of Set 3 : mar del plata\n",
      "Processing Record 12 of Set 3 : kavaratti\n",
      "Processing Record 13 of Set 3 : shu\n",
      "Processing Record 14 of Set 3 : vaini\n",
      "Processing Record 15 of Set 3 : hue\n",
      "City not found. Skipping...\n",
      "Processing Record 16 of Set 3 : santa maria\n",
      "Processing Record 17 of Set 3 : kruisfontein\n",
      "Processing Record 18 of Set 3 : khuzhir\n",
      "Processing Record 19 of Set 3 : belmonte\n",
      "Processing Record 20 of Set 3 : sulangan\n",
      "Processing Record 21 of Set 3 : te anau\n",
      "Processing Record 22 of Set 3 : yulara\n",
      "Processing Record 23 of Set 3 : zonguldak\n",
      "Processing Record 24 of Set 3 : pacific grove\n",
      "Processing Record 25 of Set 3 : araouane\n",
      "Processing Record 26 of Set 3 : okhotsk\n",
      "Processing Record 27 of Set 3 : comodoro rivadavia\n",
      "Processing Record 28 of Set 3 : provideniya\n",
      "Processing Record 29 of Set 3 : broken hill\n",
      "Processing Record 30 of Set 3 : dikson\n",
      "Processing Record 31 of Set 3 : lang suan\n",
      "Processing Record 32 of Set 3 : cayenne\n",
      "City not found. Skipping...\n",
      "Processing Record 33 of Set 3 : koslan\n",
      "Processing Record 34 of Set 3 : pericos\n",
      "Processing Record 35 of Set 3 : thinadhoo\n",
      "Processing Record 36 of Set 3 : kavieng\n",
      "Processing Record 37 of Set 3 : saldanha\n",
      "Processing Record 38 of Set 3 : saint-denis\n",
      "Processing Record 39 of Set 3 : burley\n",
      "Processing Record 40 of Set 3 : souillac\n",
      "Processing Record 41 of Set 3 : ayan\n",
      "City not found. Skipping...\n",
      "Processing Record 42 of Set 3 : berlevag\n",
      "Processing Record 43 of Set 3 : shahr-e babak\n",
      "Processing Record 44 of Set 3 : road town\n",
      "Processing Record 45 of Set 3 : fergus falls\n",
      "Processing Record 46 of Set 3 : tenenkou\n",
      "Processing Record 47 of Set 3 : praia\n",
      "Processing Record 48 of Set 3 : barra do garcas\n",
      "City not found. Skipping...\n",
      "Processing Record 49 of Set 3 : severomuysk\n",
      "Processing Record 50 of Set 3 : namibe\n",
      "Processing Record 0 of Set 4 : talnakh\n",
      "City not found. Skipping...\n",
      "Processing Record 1 of Set 4 : muros\n",
      "Processing Record 2 of Set 4 : la seyne-sur-mer\n",
      "City not found. Skipping...\n",
      "City not found. Skipping...\n",
      "Processing Record 3 of Set 4 : torquay\n",
      "Processing Record 4 of Set 4 : nur\n",
      "City not found. Skipping...\n",
      "Processing Record 5 of Set 4 : cahabon\n",
      "Processing Record 6 of Set 4 : vao\n",
      "Processing Record 7 of Set 4 : fairbanks\n",
      "Processing Record 8 of Set 4 : edd\n",
      "Processing Record 9 of Set 4 : kutum\n",
      "Processing Record 10 of Set 4 : arraial do cabo\n",
      "Processing Record 11 of Set 4 : topolobampo\n",
      "Processing Record 12 of Set 4 : anadyr\n",
      "Processing Record 13 of Set 4 : san buenaventura\n",
      "Processing Record 14 of Set 4 : san rafael\n",
      "Processing Record 15 of Set 4 : port elizabeth\n",
      "Processing Record 16 of Set 4 : sao filipe\n",
      "Processing Record 17 of Set 4 : catamarca\n",
      "City not found. Skipping...\n",
      "Processing Record 18 of Set 4 : hargeysa\n",
      "Processing Record 19 of Set 4 : ha tinh\n",
      "Processing Record 20 of Set 4 : innisfail\n",
      "Processing Record 21 of Set 4 : moose factory\n",
      "Processing Record 22 of Set 4 : clyde river\n",
      "Processing Record 23 of Set 4 : pangnirtung\n",
      "Processing Record 24 of Set 4 : paamiut\n",
      "Processing Record 25 of Set 4 : itoman\n",
      "Processing Record 26 of Set 4 : buta\n",
      "Processing Record 27 of Set 4 : atar\n",
      "Processing Record 28 of Set 4 : ancud\n",
      "Processing Record 29 of Set 4 : tasiilaq\n",
      "Processing Record 30 of Set 4 : victoria\n",
      "Processing Record 31 of Set 4 : havelock\n"
     ]
    }
   ],
   "source": [
    "print(\"Beginning Data Retrieval \")\n",
    "print(\"-----------------------------\")\n",
    "\n",
    "base_url = \"http://api.openweathermap.org/data/2.5/weather?\"\n",
    "units = \"imperial\"\n",
    "query_url = f\"{base_url}appid={api_key}&units={units}&q=\"\n",
    "\n",
    "\n",
    "# For each city name in cities list, do below things...\n",
    "for index, city in enumerate(cities, start = 1):\n",
    "    try:\n",
    "        response = requests.get(query_url + city).json()\n",
    "        city_name_list.append(response[\"name\"])\n",
    "        cloudiness_list.append(response[\"clouds\"][\"all\"])\n",
    "        country_list.append(response[\"sys\"][\"country\"])\n",
    "        date_list.append(response[\"dt\"])\n",
    "        humidity_list.append(response[\"main\"][\"humidity\"])\n",
    "        lat_list.append(response[\"coord\"][\"lat\"])\n",
    "        lng_list.append(response[\"coord\"][\"lon\"])\n",
    "        max_temp_list.append(response['main']['temp_max'])\n",
    "        wind_speed_list.append(response[\"wind\"][\"speed\"])\n",
    "        if index_counter > 49:\n",
    "            index_counter = 0\n",
    "            set_counter = set_counter + 1\n",
    "    \n",
    "        else:\n",
    "            index_counter = index_counter + 1\n",
    "            \n",
    "        print(f\"Processing Record {index_counter} of Set {set_counter} : {city}\") \n",
    "  \n",
    "    except(KeyError, IndexError):\n",
    "        print(\"City not found. Skipping...\")\n",
    "\n",
    "print(\"-----------------------------\")\n",
    "print(\"Data Retrieval Complete\")\n",
    "print(\"-----------------------------\")\n",
    "\n",
    "\n"
   ]
  },
  {
   "cell_type": "markdown",
   "metadata": {},
   "source": [
    "### Convert Raw Data to DataFrame\n",
    "* Export the city data into a .csv.\n",
    "* Display the DataFrame"
   ]
  },
  {
   "cell_type": "code",
   "execution_count": null,
   "metadata": {},
   "outputs": [],
   "source": [
    "weather_data = pd.DataFrame({ \n",
    "                \"City\" : city_name_list,\n",
    "                \"Cloudiness\" : cloudiness_list,\n",
    "                \"Country\" : country_list,\n",
    "                \"Date\" : date_list,\n",
    "                \"Humidity\" : humidity_list,\n",
    "                \"Lat\" : lat_list,\n",
    "                \"Lng\" : lng_list,\n",
    "                \"Max Temp\" : max_temp_list,\n",
    "                \"Wind Speed\" : wind_speed_list\n",
    "})"
   ]
  },
  {
   "cell_type": "code",
   "execution_count": null,
   "metadata": {},
   "outputs": [],
   "source": [
    "weather_data.count()"
   ]
  },
  {
   "cell_type": "code",
   "execution_count": null,
   "metadata": {},
   "outputs": [],
   "source": [
    "weather_data"
   ]
  },
  {
   "cell_type": "code",
   "execution_count": null,
   "metadata": {},
   "outputs": [],
   "source": [
    "# Save as csv\n",
    "weather_data.to_csv(\"output_data/cities.csv\", index = False)\n"
   ]
  },
  {
   "cell_type": "markdown",
   "metadata": {},
   "source": [
    "## Plotting the Data\n",
    "* Use proper labeling of the plots using plot titles (including date of analysis) and axes labels.\n",
    "* Save the plotted figures as .pngs."
   ]
  },
  {
   "cell_type": "markdown",
   "metadata": {},
   "source": [
    "## Latitude vs. Temperature Plot"
   ]
  },
  {
   "cell_type": "code",
   "execution_count": null,
   "metadata": {
    "scrolled": true
   },
   "outputs": [],
   "source": [
    "# create scatter plot latitude vs temperature\n",
    "plt.scatter(weather_data[\"Lat\"], weather_data[\"Max Temp\"], facecolor = \"lightsteelblue\", edgecolor = \"black\")\n",
    "\n",
    "# Set labels\n",
    "plt.title(\"Latitude of Cities vs Maximum Temperature\")\n",
    "plt.xlabel(\"Latitude\")\n",
    "plt.ylabel(\"Maximum Temperature (F)\")\n",
    "plt.grid(linestyle='-', linewidth=1, alpha =0.5)\n",
    "\n",
    "# Save the image\n",
    "plt.savefig(\"Images/Latitude vs. Temperature.png\")\n",
    "\n",
    "print(\"Temperature is at it's highest around 0 latitude. As the latitude increases, temperature has a significant drop\")"
   ]
  },
  {
   "cell_type": "markdown",
   "metadata": {},
   "source": [
    "## Latitude vs. Humidity Plot"
   ]
  },
  {
   "cell_type": "code",
   "execution_count": null,
   "metadata": {},
   "outputs": [],
   "source": [
    "# create scatter plot latitude vs humidity\n",
    "plt.scatter(weather_data[\"Lat\"], weather_data[\"Humidity\"], facecolor = \"lightsteelblue\", edgecolor = \"black\")\n",
    "\n",
    "# Set labels\n",
    "plt.title(\"Latitude of Cities vs Humidity\")\n",
    "plt.xlabel(\"Latitude\")\n",
    "plt.ylabel(\"Humidity (%)\")\n",
    "plt.grid(linestyle='-', linewidth=1, alpha =0.5)\n",
    "\n",
    "# Save the image\n",
    "plt.savefig(\"Images/Latitude Vs. Humidity.png\")\n",
    "\n",
    "print(\"Humidity seems to be more prominent North of the equator but overall there doesn't seem to be a perfect trend. \")"
   ]
  },
  {
   "cell_type": "markdown",
   "metadata": {},
   "source": [
    "## Latitude vs. Cloudiness Plot"
   ]
  },
  {
   "cell_type": "code",
   "execution_count": null,
   "metadata": {},
   "outputs": [],
   "source": [
    "# create scatter plot latitude vs cloudiness\n",
    "plt.scatter(weather_data[\"Lat\"], weather_data[\"Cloudiness\"], facecolor = \"lightsteelblue\", edgecolor = \"black\")\n",
    "\n",
    "# Set labels\n",
    "plt.title(\"Latitude of Cities vs Cloudiness\")\n",
    "plt.xlabel(\"Latitude\")\n",
    "plt.ylabel(\"Cloudiness(%)\")\n",
    "plt.grid(linestyle='-', linewidth=1, alpha =0.5)\n",
    "\n",
    "# Save the image\n",
    "plt.savefig(\"Images/Latitude Vs. Cloudiness.png\")\n",
    "\n",
    "print(\"There is no coorelation between latitude and cloudiness\")\n",
    "\n"
   ]
  },
  {
   "cell_type": "markdown",
   "metadata": {},
   "source": [
    "## Latitude vs. Wind Speed Plot"
   ]
  },
  {
   "cell_type": "code",
   "execution_count": null,
   "metadata": {},
   "outputs": [],
   "source": [
    "# create scatter plot latitude vs Wind speed\n",
    "plt.scatter(weather_data[\"Lat\"], weather_data[\"Wind Speed\"], facecolor = \"lightsteelblue\", edgecolor = \"black\")\n",
    "\n",
    "# Set labels\n",
    "plt.title(\"Latitude of Cities vs Wind Speed\")\n",
    "plt.xlabel(\"Latitude\")\n",
    "plt.ylabel(\"Wind Speed (MPH)\")\n",
    "plt.grid(linestyle='-', linewidth=1, alpha =0.5)\n",
    "\n",
    "print(\"Latitude isn't the same across the board when it comes to wind speed. Some latitudes have very different wind speed.\")\n"
   ]
  },
  {
   "cell_type": "markdown",
   "metadata": {},
   "source": [
    "## Linear Regression"
   ]
  },
  {
   "cell_type": "code",
   "execution_count": null,
   "metadata": {},
   "outputs": [],
   "source": [
    "# Seperate Northern and Southern Hemisphere figures\n",
    "northern_hemisphere = weather_data.loc[weather_data[\"Lat\"] >= 0]\n",
    "southern_hemisphere = weather_data.loc[weather_data[\"Lat\"] < 0]"
   ]
  },
  {
   "cell_type": "code",
   "execution_count": null,
   "metadata": {},
   "outputs": [],
   "source": [
    "# Define function for creating linear agression and scatter plot\n",
    "def linear_agression(x,y):\n",
    "    print(f\"The r-squared is : {round(st.pearsonr(x, y)[0],2)}\")\n",
    "    (slope, intercept, rvalue, pvalue, stderr) = linregress(x, y)\n",
    "    regress_values = x * slope + intercept\n",
    "    line_eq = \"y = \" + str(round(slope,2)) + \"x + \" + str(round(intercept,2))\n",
    "    plt.scatter(x, y)\n",
    "    plt.plot(x,regress_values,\"r-\")\n",
    "    return line_eq\n",
    "\n",
    "# Define a fuction for annotating\n",
    "def annotate(line_eq, a, b):\n",
    "    plt.annotate(line_eq,(a,b),fontsize=15,color=\"red\")"
   ]
  },
  {
   "cell_type": "markdown",
   "metadata": {},
   "source": [
    "####  Northern Hemisphere - Max Temp vs. Latitude Linear Regression"
   ]
  },
  {
   "cell_type": "code",
   "execution_count": null,
   "metadata": {},
   "outputs": [],
   "source": [
    "# Equation \n",
    "equation = linear_agression(northern_hemisphere[\"Lat\"], northern_hemisphere[\"Max Temp\"])\n",
    "annotate(equation, 0, 0)\n",
    "\n",
    "# Set a labels\n",
    "plt.title(\"Northern Hemisphere - Max Temp vs. Latitude Linear Regression\")\n",
    "plt.xlabel(\"Latitude\")\n",
    "plt.ylabel(\"Max Temp (F)\")\n",
    "\n",
    "# Save the image\n",
    "plt.savefig(\"Images/Northern Hemisphere - Max Temp vs. Latitude Linear Regression.png\")\n",
    "\n",
    "print(\"There is a prominent negative coorelation between max temperature and latitude in the Northern Hemisphere.\")"
   ]
  },
  {
   "cell_type": "markdown",
   "metadata": {},
   "source": [
    "####  Southern Hemisphere - Max Temp vs. Latitude Linear Regression"
   ]
  },
  {
   "cell_type": "code",
   "execution_count": null,
   "metadata": {},
   "outputs": [],
   "source": [
    "# Equation \n",
    "equation = linear_agression(southern_hemisphere[\"Lat\"], southern_hemisphere[\"Max Temp\"])\n",
    "annotate(equation, -30, 50)\n",
    "\n",
    "# Set a labels\n",
    "plt.title(\"Southern Hemisphere - Max Temp vs. Latitude Linear Regression\")\n",
    "plt.xlabel(\"Latitude\")\n",
    "plt.ylabel(\"Max Temp (F)\")\n",
    "\n",
    "# Save the image\n",
    "plt.savefig(\"Images/Southern Hemisphere - Max Temp vs. Latitude Linear Regression.png\")\n",
    "\n",
    "print(\"There is a fairly strong positive coorelation between max temperature and latitude in the Southern Hemisphere.\")"
   ]
  },
  {
   "cell_type": "markdown",
   "metadata": {},
   "source": [
    "####  Northern Hemisphere - Humidity (%) vs. Latitude Linear Regression"
   ]
  },
  {
   "cell_type": "code",
   "execution_count": null,
   "metadata": {},
   "outputs": [],
   "source": [
    "# Equation \n",
    "equation = linear_agression(northern_hemisphere[\"Lat\"], northern_hemisphere[\"Humidity\"])\n",
    "annotate(equation, 40, 15)\n",
    "\n",
    "# Set a labels\n",
    "plt.title(\"Northern Hemisphere - Humidity vs. Latitude Linear Regression\")\n",
    "plt.xlabel(\"Latitude\")\n",
    "plt.ylabel(\"Humidity (%)\")\n",
    "\n",
    "# Save the image\n",
    "plt.savefig(\"Images/Northern Hemisphere - Humidity vs. Latitude Linear Regression.png\")\n",
    "\n",
    "print(\"There is a fairly strong positive coorelation between humidity and latitude in the Northern Hemisphere.\")"
   ]
  },
  {
   "cell_type": "markdown",
   "metadata": {},
   "source": [
    "####  Southern Hemisphere - Humidity (%) vs. Latitude Linear Regression"
   ]
  },
  {
   "cell_type": "code",
   "execution_count": null,
   "metadata": {},
   "outputs": [],
   "source": [
    "# Equation \n",
    "equation = linear_agression(southern_hemisphere[\"Lat\"], southern_hemisphere[\"Humidity\"])\n",
    "annotate(equation, -55, 40)\n",
    "\n",
    "# Set a labels\n",
    "plt.title(\"Southern Hemisphere - Humidity vs. Latitude Linear Regression\")\n",
    "plt.xlabel(\"Latitude\")\n",
    "plt.ylabel(\"Humidity (%)\")\n",
    "\n",
    "# Save the image\n",
    "plt.savefig(\"Images/Southern Hemisphere - Humidity vs. Latitude Linear Regression.png\")\n",
    "\n",
    "print(\"There doesn't seem to be much coorelation at all between humidity and latitude in the Southern Hemisphere.\")"
   ]
  },
  {
   "cell_type": "markdown",
   "metadata": {},
   "source": [
    "####  Northern Hemisphere - Cloudiness (%) vs. Latitude Linear Regression"
   ]
  },
  {
   "cell_type": "code",
   "execution_count": null,
   "metadata": {},
   "outputs": [],
   "source": [
    "# Equation \n",
    "equation = linear_agression(northern_hemisphere[\"Lat\"], northern_hemisphere[\"Cloudiness\"])\n",
    "annotate(equation, 40, 27)\n",
    "\n",
    "# Set a labels\n",
    "plt.title(\"Northern Hemisphere - Cloudiness vs. Latitude Linear Regression\")\n",
    "plt.xlabel(\"Latitude\")\n",
    "plt.ylabel(\"Cloudiness (%)\")\n",
    "\n",
    "# Save the image\n",
    "plt.savefig(\"Images/Northern Hemisphere - Cloudiness vs. Latitude Linear Regression.png\")\n",
    "\n",
    "print(\"There is a small positive coorelation between cloudiness and latitude in the Northern Hemisphere.\")"
   ]
  },
  {
   "cell_type": "markdown",
   "metadata": {},
   "source": [
    "####  Southern Hemisphere - Cloudiness (%) vs. Latitude Linear Regression"
   ]
  },
  {
   "cell_type": "code",
   "execution_count": null,
   "metadata": {},
   "outputs": [],
   "source": [
    "# Equation \n",
    "equation = linear_agression(southern_hemisphere[\"Lat\"], southern_hemisphere[\"Cloudiness\"])\n",
    "annotate(equation, -55, 20)\n",
    "\n",
    "# Set a labels\n",
    "plt.title(\"Southern Hemisphere - Cloudiness vs. Latitude Linear Regression\")\n",
    "plt.xlabel(\"Latitude\")\n",
    "plt.ylabel(\"Cloudiness (%)\")\n",
    "\n",
    "# Save the image\n",
    "plt.savefig(\"Images/Southern Hemisphere - Cloudiness vs. Latitude Linear Regression.png\")\n",
    "\n",
    "print(\"There is a small positive coorelation between cloudiness and latitude in the Southern Hemisphere.\")\n",
    "\n"
   ]
  },
  {
   "cell_type": "markdown",
   "metadata": {},
   "source": [
    "####  Northern Hemisphere - Wind Speed (mph) vs. Latitude Linear Regression"
   ]
  },
  {
   "cell_type": "code",
   "execution_count": null,
   "metadata": {},
   "outputs": [],
   "source": [
    "# Equation \n",
    "equation = linear_agression(northern_hemisphere[\"Lat\"], northern_hemisphere[\"Wind Speed\"])\n",
    "annotate(equation, 0, 35)\n",
    "\n",
    "# Set a labels\n",
    "plt.title(\"Northern Hemisphere - Wind Speed vs. Latitude Linear Regression\")\n",
    "plt.xlabel(\"Latitude\")\n",
    "plt.ylabel(\"Wind Speed (MPH)\")\n",
    "\n",
    "# Save the image\n",
    "plt.savefig(\"Images/Northern Hemisphere - Wind Speed vs. Latitude Linear Regression.png\")\n",
    "\n",
    "print(\"There is a small positive coorelation between wind speed and latitude in the Northern Hemisphere.\")"
   ]
  },
  {
   "cell_type": "markdown",
   "metadata": {},
   "source": [
    "####  Southern Hemisphere - Wind Speed (mph) vs. Latitude Linear Regression"
   ]
  },
  {
   "cell_type": "code",
   "execution_count": null,
   "metadata": {},
   "outputs": [],
   "source": [
    "# Equation \n",
    "equation = linear_agression(southern_hemisphere[\"Lat\"], southern_hemisphere[\"Wind Speed\"])\n",
    "annotate(equation, -22, 25)\n",
    "\n",
    "# Set a labels\n",
    "plt.title(\"Southern Hemisphere - Wind Speed vs. Latitude Linear Regression\")\n",
    "plt.xlabel(\"Latitude\")\n",
    "plt.ylabel(\"Wind Speed (MPH)\")\n",
    "\n",
    "# Save the image\n",
    "plt.savefig(\"Images/Southern Hemisphere - Wind Speed vs. Latitude Linear Regression.png\")\n",
    "\n",
    "print(\"There is a small negative coorelation between cloudiness and latitude in the Southern Hemisphere.\")"
   ]
  },
  {
   "cell_type": "code",
   "execution_count": null,
   "metadata": {},
   "outputs": [],
   "source": []
  }
 ],
 "metadata": {
  "anaconda-cloud": {},
  "kernel_info": {
   "name": "python3"
  },
  "kernelspec": {
   "display_name": "Python [conda env:root]",
   "language": "python",
   "name": "conda-root-py"
  },
  "language_info": {
   "codemirror_mode": {
    "name": "ipython",
    "version": 3
   },
   "file_extension": ".py",
   "mimetype": "text/x-python",
   "name": "python",
   "nbconvert_exporter": "python",
   "pygments_lexer": "ipython3",
   "version": "3.8.3"
  },
  "latex_envs": {
   "LaTeX_envs_menu_present": true,
   "autoclose": false,
   "autocomplete": true,
   "bibliofile": "biblio.bib",
   "cite_by": "apalike",
   "current_citInitial": 1,
   "eqLabelWithNumbers": true,
   "eqNumInitial": 1,
   "hotkeys": {
    "equation": "Ctrl-E",
    "itemize": "Ctrl-I"
   },
   "labels_anchors": false,
   "latex_user_defs": false,
   "report_style_numbering": false,
   "user_envs_cfg": false
  },
  "nteract": {
   "version": "0.12.3"
  }
 },
 "nbformat": 4,
 "nbformat_minor": 2
}
